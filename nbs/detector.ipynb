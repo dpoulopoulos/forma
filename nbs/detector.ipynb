{
 "cells": [
  {
   "cell_type": "code",
   "execution_count": null,
   "metadata": {},
   "outputs": [],
   "source": [
    "# default_exp detector"
   ]
  },
  {
   "cell_type": "code",
   "execution_count": null,
   "metadata": {},
   "outputs": [],
   "source": [
    "# hide\n",
    "from nbdev.showdoc import *"
   ]
  },
  {
   "cell_type": "code",
   "execution_count": null,
   "metadata": {},
   "outputs": [],
   "source": [
    "# export\n",
    "import numpy as np\n",
    "import pandas as pd\n",
    "\n",
    "from typing import Any, Dict, Callable\n",
    "from tqdm import tqdm\n",
    "\n",
    "from forma.judge import FormatJudge\n",
    "from forma.utils import PatternGenerator"
   ]
  },
  {
   "cell_type": "markdown",
   "metadata": {},
   "source": [
    "# Detector\n",
    "\n",
    "> Detects format errors on a tubular dataset."
   ]
  },
  {
   "cell_type": "code",
   "execution_count": null,
   "metadata": {},
   "outputs": [],
   "source": [
    "# export\n",
    "class FormatDetector:\n",
    "    def __init__(self):\n",
    "        pass\n",
    "    \n",
    "    def fit(self, df: pd.DataFrame, generator: PatternGenerator or List['str': PatternGenerator], \n",
    "            n: int = 3, dim: int = 1):\n",
    "        self.judges = {}\n",
    "        \n",
    "        self.df = df\n",
    "        with tqdm(total=len(self.df.columns)) as pbar:\n",
    "            if isinstance(generator, PatternGenerator):\n",
    "                for col in self.df.columns:\n",
    "                    col_values = self.df[col].tolist()\n",
    "                    format_judge = FormatJudge(generator, n, dim)\n",
    "                    format_judge.fit(col_values)\n",
    "                    self.judges[col] = format_judge\n",
    "                    pbar.update(1)\n",
    "            else:\n",
    "                for col, gen in generator.items():\n",
    "                    col_values = self.df[col].tolist()\n",
    "                    format_judge = FormatJudge(gen, n, dim)\n",
    "                    format_judge.fit(col_values)\n",
    "                    self.judges[col] = format_judge\n",
    "                    pbar.update(1)\n",
    "    \n",
    "    def detect(self, reduction: Callable = np.min) -> dict:\n",
    "        scores = []\n",
    "        \n",
    "        with tqdm(total=len(self.df)) as pbar:\n",
    "            for index, row in self.df.iterrows():\n",
    "                tuple_score = []\n",
    "                for col in self.df.columns:\n",
    "                    judge = self.judges[col]\n",
    "                    tuple_score.append(np.mean(judge(row[col])))\n",
    "                scores.append(1 - reduction(tuple_score))\n",
    "                pbar.update(1)\n",
    "        assessed_df = self.df.copy()\n",
    "        assessed_df['p'] = scores\n",
    "        return assessed_df"
   ]
  }
 ],
 "metadata": {
  "kernelspec": {
   "display_name": "Python [conda env:forma]",
   "language": "python",
   "name": "conda-env-forma-py"
  }
 },
 "nbformat": 4,
 "nbformat_minor": 4
}
