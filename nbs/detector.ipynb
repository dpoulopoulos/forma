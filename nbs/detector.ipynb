{
 "cells": [
  {
   "cell_type": "code",
   "execution_count": null,
   "metadata": {},
   "outputs": [],
   "source": [
    "# default_exp detector"
   ]
  },
  {
   "cell_type": "code",
   "execution_count": null,
   "metadata": {},
   "outputs": [],
   "source": [
    "# hide\n",
    "from nbdev.showdoc import *"
   ]
  },
  {
   "cell_type": "code",
   "execution_count": null,
   "metadata": {},
   "outputs": [],
   "source": [
    "# export\n",
    "import numpy as np\n",
    "import pandas as pd\n",
    "\n",
    "from typing import Any, Dict, Callable\n",
    "from tqdm import tqdm\n",
    "\n",
    "from forma.judge import FormatJudge\n",
    "from forma.utils import PatternGenerator"
   ]
  },
  {
   "cell_type": "markdown",
   "metadata": {},
   "source": [
    "# Detector\n",
    "\n",
    "> Detects format errors on a tubular dataset."
   ]
  },
  {
   "cell_type": "code",
   "execution_count": null,
   "metadata": {},
   "outputs": [],
   "source": [
    "# export\n",
    "class FormatDetector:\n",
    "    def __init__(self, skip: list = None):\n",
    "        self.skip = skip\n",
    "    \n",
    "    def fit(self, df: pd.DataFrame, generator: PatternGenerator or List['str': PatternGenerator], \n",
    "            n: int = 3, dim: int = 1):\n",
    "        self.judges = {}\n",
    "        \n",
    "        self.df = df\n",
    "        with tqdm(total=len(self.df.columns)) as pbar:\n",
    "            if isinstance(generator, PatternGenerator):\n",
    "                for col in self.df.columns:\n",
    "                    if col in self.skip:\n",
    "                        continue\n",
    "                    col_values = self.df[col].tolist()\n",
    "                    format_judge = FormatJudge(generator, n, dim)\n",
    "                    format_judge.fit(col_values)\n",
    "                    self.judges[col] = format_judge\n",
    "                    pbar.update(1)\n",
    "            else:\n",
    "                for col in self.df.columns:\n",
    "                    if col in self.skip:\n",
    "                        continue\n",
    "                    col_values = self.df[col].tolist()\n",
    "                    gen = generator.get(col, PatternGenerator())\n",
    "                    format_judge = FormatJudge(gen, n, dim)\n",
    "                    format_judge.fit(col_values)\n",
    "                    self.judges[col] = format_judge\n",
    "                    pbar.update(1)\n",
    "    \n",
    "    def detect(self, reduction: Callable = np.min, softmax: bool = True) -> dict:\n",
    "        scores = []\n",
    "        \n",
    "        with tqdm(total=len(self.df)) as pbar:\n",
    "            for index, row in self.df.iterrows():\n",
    "                tuple_score = []\n",
    "                for col in self.df.columns:\n",
    "                    if col in self.skip:\n",
    "                        continue\n",
    "                    judge = self.judges[col]\n",
    "                    score = np.mean(judge(row[col]))\n",
    "                    tuple_score.append(score)\n",
    "                if softmax:\n",
    "                    tuple_score = np.exp(tuple_score)\n",
    "                    softmax_tuple_score = [score / sum(tuple_score) for score in tuple_score]\n",
    "                    if reduction == np.ptp:\n",
    "                        scores.append(reduction(softmax_tuple_score))\n",
    "                    else:\n",
    "                        scores.append(1 - reduction(softmax_tuple_score))\n",
    "                else:\n",
    "                    if reduction == np.ptp:\n",
    "                        scores.append(reduction(tuple_score))\n",
    "                    else:\n",
    "                        scores.append(1 - reduction(tuple_score))\n",
    "                pbar.update(1)\n",
    "        assessed_df = self.df.copy()\n",
    "        assessed_df['p'] = scores\n",
    "        return assessed_df"
   ]
  },
  {
   "cell_type": "code",
   "execution_count": null,
   "metadata": {},
   "outputs": [],
   "source": [
    "a = [.02, .99]"
   ]
  },
  {
   "cell_type": "code",
   "execution_count": null,
   "metadata": {},
   "outputs": [
    {
     "data": {
      "text/plain": [
       "0.97"
      ]
     },
     "execution_count": null,
     "metadata": {},
     "output_type": "execute_result"
    }
   ],
   "source": [
    "np.ptp(a)"
   ]
  },
  {
   "cell_type": "code",
   "execution_count": null,
   "metadata": {},
   "outputs": [],
   "source": [
    "b = np.exp(a)"
   ]
  },
  {
   "cell_type": "code",
   "execution_count": null,
   "metadata": {},
   "outputs": [],
   "source": [
    "c = [e/sum(b) for e in b]"
   ]
  },
  {
   "cell_type": "code",
   "execution_count": null,
   "metadata": {},
   "outputs": [],
   "source": [
    "d = np.std(c)"
   ]
  },
  {
   "cell_type": "code",
   "execution_count": null,
   "metadata": {},
   "outputs": [
    {
     "data": {
      "text/plain": [
       "0.2251194977898231"
      ]
     },
     "execution_count": null,
     "metadata": {},
     "output_type": "execute_result"
    }
   ],
   "source": [
    "d"
   ]
  },
  {
   "cell_type": "code",
   "execution_count": null,
   "metadata": {},
   "outputs": [],
   "source": []
  }
 ],
 "metadata": {
  "kernelspec": {
   "display_name": "Python [conda env:forma]",
   "language": "python",
   "name": "conda-env-forma-py"
  }
 },
 "nbformat": 4,
 "nbformat_minor": 4
}
