{
 "cells": [
  {
   "cell_type": "code",
   "execution_count": null,
   "metadata": {},
   "outputs": [],
   "source": [
    "# default_exp judge"
   ]
  },
  {
   "cell_type": "code",
   "execution_count": null,
   "metadata": {},
   "outputs": [],
   "source": [
    "# hide\n",
    "from nbdev.showdoc import *"
   ]
  },
  {
   "cell_type": "code",
   "execution_count": null,
   "metadata": {},
   "outputs": [],
   "source": [
    "# export\n",
    "import heapq\n",
    "import numpy as np\n",
    "\n",
    "from typing import Any, List\n",
    "\n",
    "from nltk.lm import MLE\n",
    "from nltk.util import ngrams\n",
    "from nltk.lm.preprocessing import flatten\n",
    "from nltk.lm.preprocessing import pad_both_ends\n",
    "\n",
    "from forma.utils import PatternGenerator"
   ]
  },
  {
   "cell_type": "markdown",
   "metadata": {},
   "source": [
    "# Judge\n",
    "\n",
    "> Assesses a tabular dataset for format errors."
   ]
  },
  {
   "cell_type": "code",
   "execution_count": null,
   "metadata": {},
   "outputs": [],
   "source": [
    "# export\n",
    "class FormatJudge:\n",
    "    \"\"\"Detects format errors on a tabular data set.\"\"\"\n",
    "    \n",
    "    def __init__(self, generator: PatternGenerator, n: int = 3, dim: int = 1):\n",
    "        self.generator = generator\n",
    "        self.n = n\n",
    "        self.dim = dim\n",
    "        \n",
    "    def __call__(self, o: Any) -> list:\n",
    "        return self.judge(o)\n",
    "    \n",
    "    def fit(self, values: List[Any]):\n",
    "        patterns = [self.generator(v) for v in values]\n",
    "        padded_patterns = [pad_both_ends(p, n=self.n) for p in patterns]\n",
    "        ngrams_ = [ngrams(pp, n=self.n) for pp in padded_patterns]\n",
    "        \n",
    "        self.vocab = list(flatten(pad_both_ends(p, n=self.n) for p in patterns))\n",
    "        self.model = MLE(self.n)\n",
    "        self.model.fit(ngrams_, self.vocab)\n",
    "        \n",
    "    def judge(self, o: Any) -> list:\n",
    "        scores = []\n",
    "        p = self.generator(o)\n",
    "        p = list(pad_both_ends(p, n=self.n))\n",
    "        for i,v in enumerate(p):\n",
    "            if i < self.n-1:\n",
    "                continue\n",
    "            letters = []\n",
    "            for j in range(i - (self.n-1), i):\n",
    "                letters.append(p[j])\n",
    "            scores.append(self.model.score(v, letters))\n",
    "        return heapq.nsmallest(self.dim, scores)"
   ]
  }
 ],
 "metadata": {
  "kernelspec": {
   "display_name": "Python [conda env:forma]",
   "language": "python",
   "name": "conda-env-forma-py"
  }
 },
 "nbformat": 4,
 "nbformat_minor": 4
}
