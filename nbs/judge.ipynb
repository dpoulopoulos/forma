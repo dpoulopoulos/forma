{
 "cells": [
  {
   "cell_type": "code",
   "execution_count": null,
   "metadata": {},
   "outputs": [],
   "source": [
    "# default_exp judge"
   ]
  },
  {
   "cell_type": "code",
   "execution_count": null,
   "metadata": {},
   "outputs": [],
   "source": [
    "# hide\n",
    "from nbdev.showdoc import *"
   ]
  },
  {
   "cell_type": "code",
   "execution_count": null,
   "metadata": {},
   "outputs": [],
   "source": [
    "# export\n",
    "import heapq\n",
    "import numpy as np\n",
    "\n",
    "from typing import Any, List\n",
    "\n",
    "from nltk.lm import MLE\n",
    "from nltk.util import ngrams\n",
    "from nltk.lm.preprocessing import flatten\n",
    "from nltk.lm.preprocessing import pad_both_ends\n",
    "\n",
    "from forma.utils import PatternGenerator"
   ]
  },
  {
   "cell_type": "markdown",
   "metadata": {},
   "source": [
    "# Judge\n",
    "\n",
    "> Assesses a tabular dataset for format errors."
   ]
  },
  {
   "cell_type": "code",
   "execution_count": null,
   "metadata": {},
   "outputs": [],
   "source": [
    "# export\n",
    "class FormatJudge:\n",
    "    \"\"\"Detects format errors on a tabular data set.\"\"\"\n",
    "    \n",
    "    def __init__(self, generator: PatternGenerator, n: int = 1):\n",
    "        self.generator = generator\n",
    "        self.n = n\n",
    "        \n",
    "    def __call__(self, o: Any) -> list:\n",
    "        return self.judge(o)\n",
    "    \n",
    "    def fit(self, values: List[Any]):\n",
    "        patterns = [self.generator(v) for v in values]\n",
    "        padded_patterns = [pad_both_ends(p, n=3) for p in patterns]\n",
    "        trigrams = [ngrams(pp, n=3) for pp in padded_patterns]\n",
    "        \n",
    "        self.vocab = list(flatten(pad_both_ends(p, n=2) for p in patterns))\n",
    "        self.model = MLE(3)\n",
    "        self.model.fit(trigrams, self.vocab)\n",
    "        \n",
    "    def judge(self, o: Any) -> list:\n",
    "        scores = []\n",
    "        p = self.generator(o)\n",
    "        p = list(pad_both_ends(p, n=3))\n",
    "        for i,v in enumerate(p):\n",
    "            if i < 2:\n",
    "                continue\n",
    "            scores.append(self.model.score(v, [p[i-2], p[i-1]]))\n",
    "        return scores"
   ]
  }
 ],
 "metadata": {
  "kernelspec": {
   "display_name": "Python [conda env:forma]",
   "language": "python",
   "name": "conda-env-forma-py"
  }
 },
 "nbformat": 4,
 "nbformat_minor": 4
}
