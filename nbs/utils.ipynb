{
 "cells": [
  {
   "cell_type": "code",
   "execution_count": null,
   "metadata": {},
   "outputs": [],
   "source": [
    "# default_exp utils"
   ]
  },
  {
   "cell_type": "code",
   "execution_count": null,
   "metadata": {},
   "outputs": [],
   "source": [
    "# hide\n",
    "from nbdev.showdoc import *"
   ]
  },
  {
   "cell_type": "code",
   "execution_count": null,
   "metadata": {},
   "outputs": [],
   "source": [
    "# export\n",
    "import re\n",
    "\n",
    "from typing import Tuple, Any\n",
    "from itertools import groupby\n",
    "from collections import defaultdict"
   ]
  },
  {
   "cell_type": "markdown",
   "metadata": {},
   "source": [
    "# Utils\n",
    "\n",
    "> A set of utility functions."
   ]
  },
  {
   "cell_type": "code",
   "execution_count": null,
   "metadata": {},
   "outputs": [],
   "source": [
    "# export\n",
    "class PatternGenerator:\n",
    "    \"\"\"Generates a generic pattern given a value and a generalization language.\"\"\"\n",
    "    \n",
    "    def __init__(self, alpha: str = 'type', digit: str = 'type', other: str = 'type', \n",
    "                 preserve_space: bool = False, add_length: bool = True):\n",
    "        self.alpha = alpha\n",
    "        self.digit = digit\n",
    "        self.other = other\n",
    "        self.preserve_space= preserve_space\n",
    "        self.add_length = add_length\n",
    "        \n",
    "    def __call__(self, value: Any) -> str:\n",
    "        pattern = ''\n",
    "        value = list(str(value))\n",
    "        \n",
    "        for c in value:\n",
    "            pattern += self._get_representation(c)\n",
    "\n",
    "        grouped_pattern = [''.join(g) for _, g in groupby(pattern)]\n",
    "        \n",
    "        if self.add_length:\n",
    "            return ''.join([f'{v[0]}({len(v)})' for v in grouped_pattern])\n",
    "\n",
    "        return ''.join([s[0] for s in grouped_pattern]) \n",
    "    \n",
    "    def _get_representation(self, c: str):\n",
    "        if c.isalpha():\n",
    "            return self._get_alpha_representation(c)\n",
    "        if c.isnumeric():\n",
    "            return self._get_digit_representation(c)\n",
    "        return self._get_other_representation(c)\n",
    "    \n",
    "    def _get_alpha_representation(self, c: str):\n",
    "        if self.alpha == 'root':\n",
    "            return 'A'\n",
    "        if self.alpha == 'type':\n",
    "            return 'L'\n",
    "        if self.alpha == 'case':\n",
    "            return 'u' if c.isupper() else 'l'\n",
    "        return c\n",
    "    \n",
    "    def _get_digit_representation(self, c: str):\n",
    "        if self.digit == 'root':\n",
    "            return 'A'\n",
    "        if self.digit == 'type':\n",
    "            return 'D'\n",
    "        return c\n",
    "    \n",
    "    def _get_other_representation(self, c: str):\n",
    "        if c == ' ':\n",
    "            return ' ' if self.preserve_space else ''\n",
    "        if self.other == 'root':\n",
    "            return 'A'\n",
    "        if self.other == 'type':\n",
    "            return 'S'\n",
    "        return c"
   ]
  }
 ],
 "metadata": {
  "kernelspec": {
   "display_name": "Python [conda env:forma]",
   "language": "python",
   "name": "conda-env-forma-py"
  }
 },
 "nbformat": 4,
 "nbformat_minor": 4
}
